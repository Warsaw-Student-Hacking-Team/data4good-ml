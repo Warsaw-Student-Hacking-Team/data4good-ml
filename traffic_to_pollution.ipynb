{
 "cells": [
  {
   "cell_type": "code",
   "execution_count": 1,
   "metadata": {},
   "outputs": [],
   "source": [
    "import os\n",
    "import torch\n",
    "import numpy as np\n",
    "import torch.nn as nn\n",
    "import pandas as pd"
   ]
  },
  {
   "cell_type": "code",
   "execution_count": 2,
   "metadata": {},
   "outputs": [],
   "source": [
    "PM10 = pd.read_csv('./data/PM10-2023.csv', sep=';')\n",
    "NO2 = pd.read_csv('./data/NO2-2023.csv', sep=';')\n",
    "traffic = pd.DataFrame()\n",
    "for file in os.listdir('./data/natezenie_ruchu_2023'):\n",
    "    data = pd.read_csv('./data/natezenie_ruchu_2023/' + file, sep=';')\n",
    "    traffic = pd.concat([traffic, data])"
   ]
  },
  {
   "cell_type": "code",
   "execution_count": 3,
   "metadata": {},
   "outputs": [],
   "source": [
    "PM10 = PM10.drop_duplicates()\n",
    "traffic = traffic.drop_duplicates()\n",
    "NO2 = NO2.drop_duplicates()"
   ]
  },
  {
   "cell_type": "code",
   "execution_count": 4,
   "metadata": {},
   "outputs": [],
   "source": [
    "traffic.columns = ['Traffic_station_id', 'date', 'hour', 'quality', 'num_vehicles', 'avg_speed', 'num_cars', 'avg_car_speed', 'num_trucks', 'avg_truck_speed']\n",
    "df = pd.read_excel('./data/Stammdaten_Verkehrsdetektion_2022_07_20.xlsx')\n",
    "# a = []\n",
    "# for i, item in enumerate(df['DET_ID15']):\n",
    "#     if item in traffic['station_id'].unique():\n",
    "#         a.append([df['x'][i], df['y'][i]])"
   ]
  },
  {
   "cell_type": "code",
   "execution_count": 5,
   "metadata": {},
   "outputs": [],
   "source": [
    "traffic_id = [100101010031590, 100101010031287]\n",
    "traffic['date'] = pd.to_datetime(traffic['date'], format=\"%d.%m.%Y\")\n",
    "traffic['hour'] = pd.to_timedelta(traffic['hour'], unit='h')\n",
    "traffic['datetime'] = traffic['date'] + traffic['hour']\n",
    "traffic = traffic.drop(columns=['date', 'hour'])\n",
    "traffic = traffic[traffic['Traffic_station_id'].isin(traffic_id)]"
   ]
  },
  {
   "cell_type": "code",
   "execution_count": 6,
   "metadata": {},
   "outputs": [
    {
     "name": "stderr",
     "output_type": "stream",
     "text": [
      "C:\\Users\\wpietron\\AppData\\Local\\Temp\\ipykernel_16148\\72315281.py:2: SettingWithCopyWarning: \n",
      "A value is trying to be set on a copy of a slice from a DataFrame\n",
      "\n",
      "See the caveats in the documentation: https://pandas.pydata.org/pandas-docs/stable/user_guide/indexing.html#returning-a-view-versus-a-copy\n",
      "  PM10['Date'][PM10['Time'] == '24:00'] = PM10['Date'] + pd.Timedelta(days=1)\n",
      "C:\\Users\\wpietron\\AppData\\Local\\Temp\\ipykernel_16148\\72315281.py:3: SettingWithCopyWarning: \n",
      "A value is trying to be set on a copy of a slice from a DataFrame\n",
      "\n",
      "See the caveats in the documentation: https://pandas.pydata.org/pandas-docs/stable/user_guide/indexing.html#returning-a-view-versus-a-copy\n",
      "  PM10['Time'][PM10['Time'] == '24:00'] = '00:00'\n"
     ]
    }
   ],
   "source": [
    "PM10['Date'] = pd.to_datetime(PM10['Date'], format=\"%Y-%m-%d\")\n",
    "PM10['Date'][PM10['Time'] == '24:00'] = PM10['Date'] + pd.Timedelta(days=1)\n",
    "PM10['Time'][PM10['Time'] == '24:00'] = '00:00'\n",
    "PM10['Time'] = pd.to_timedelta(PM10['Time'].str.strip(\"'\") + ':00')\n",
    "PM10['datetime'] = PM10['Date'] + PM10['Time']\n",
    "PM10 = PM10.drop(columns=['Date', 'Time', \"State / Measuring network\", \"Station setting\",\"Station type\",\"Pollutant\",\"Time scope\", \"Unit\", \"Station name\"])"
   ]
  },
  {
   "cell_type": "code",
   "execution_count": 7,
   "metadata": {},
   "outputs": [],
   "source": [
    "pivot_PM10 = PM10.pivot_table(index=['datetime'],\n",
    "                          columns=['Station code'],\n",
    "                          values=['Measure value'],\n",
    "                          aggfunc='first')"
   ]
  },
  {
   "cell_type": "code",
   "execution_count": 8,
   "metadata": {},
   "outputs": [],
   "source": [
    "pivot_PM10.columns = ['{}_{}'.format(col[1], col[0]) for i, col in enumerate(pivot_PM10.columns.values)]\n",
    "pivot_PM10.reset_index(inplace=True)\n",
    "# pivot_PM10.to_csv(\"pivot_PM.csv\", index=False)"
   ]
  },
  {
   "cell_type": "code",
   "execution_count": 9,
   "metadata": {},
   "outputs": [],
   "source": [
    "pivot_traffic = traffic.pivot_table(index=['datetime'],\n",
    "                          columns=['Traffic_station_id'],\n",
    "                          values=['num_vehicles', 'avg_speed', 'num_cars', 'avg_car_speed',\n",
    "                                  'num_trucks', 'avg_truck_speed','quality'],\n",
    "                          aggfunc='first')"
   ]
  },
  {
   "cell_type": "code",
   "execution_count": 10,
   "metadata": {},
   "outputs": [],
   "source": [
    "pivot_traffic.columns = ['{}_{}'.format(col[1], col[0]) for i, col in enumerate(pivot_traffic.columns.values)]\n",
    "pivot_traffic.reset_index(inplace=True)\n",
    "# pivot_traffic.to_csv(\"pivot_traffic.csv\", index=False)"
   ]
  },
  {
   "cell_type": "code",
   "execution_count": 11,
   "metadata": {},
   "outputs": [],
   "source": [
    "pivot_traffic = pivot_traffic[pivot_traffic['datetime'].isin(pivot_PM10['datetime'])]\n",
    "pivot_PM10 = pivot_PM10[pivot_PM10['datetime'].isin(pivot_traffic['datetime'])]\n",
    "\n",
    "pivot_traffic = pivot_traffic.sort_values(by='datetime')\n",
    "pivot_PM10 = pivot_PM10.sort_values(by='datetime')"
   ]
  },
  {
   "cell_type": "code",
   "execution_count": 12,
   "metadata": {},
   "outputs": [],
   "source": [
    "#save to csv\n",
    "pivot_traffic.to_csv(\"pivot_traffic.csv\", index=False)\n",
    "pivot_PM10.to_csv(\"pivot_PM10.csv\", index=False)"
   ]
  }
 ],
 "metadata": {
  "kernelspec": {
   "display_name": "Python 3",
   "language": "python",
   "name": "python3"
  },
  "language_info": {
   "codemirror_mode": {
    "name": "ipython",
    "version": 3
   },
   "file_extension": ".py",
   "mimetype": "text/x-python",
   "name": "python",
   "nbconvert_exporter": "python",
   "pygments_lexer": "ipython3",
   "version": "3.11.4"
  }
 },
 "nbformat": 4,
 "nbformat_minor": 2
}
