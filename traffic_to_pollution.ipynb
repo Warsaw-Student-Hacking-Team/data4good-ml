{
 "cells": [
  {
   "cell_type": "code",
   "execution_count": 1,
   "metadata": {},
   "outputs": [],
   "source": [
    "import os\n",
    "import torch\n",
    "import numpy as np\n",
    "import torch.nn as nn\n",
    "import pandas as pd"
   ]
  },
  {
   "cell_type": "code",
   "execution_count": 2,
   "metadata": {},
   "outputs": [],
   "source": [
    "PM10 = pd.read_csv('./data/PM10-2023.csv', sep=';')\n",
    "NO2 = pd.read_csv('./data/NO2-2023.csv', sep=';')\n",
    "traffic = pd.DataFrame()\n",
    "for file in os.listdir('./data/natezenie_ruchu_2023'):\n",
    "    data = pd.read_csv('./data/natezenie_ruchu_2023/' + file, sep=';')\n",
    "    traffic = pd.concat([traffic, data])"
   ]
  },
  {
   "cell_type": "code",
   "execution_count": 3,
   "metadata": {},
   "outputs": [],
   "source": [
    "PM10 = PM10.drop_duplicates()\n",
    "traffic = traffic.drop_duplicates()\n",
    "NO2 = NO2.drop_duplicates()"
   ]
  },
  {
   "cell_type": "code",
   "execution_count": 4,
   "metadata": {},
   "outputs": [],
   "source": [
    "traffic.columns = ['station_id', 'date', 'hour', 'quality', 'num_vehicles', 'avg_speed', 'num_cars', 'avg_car_speed', 'num_trucks', 'avg_truck_speed']\n",
    "df = pd.read_excel('./data/Stammdaten_Verkehrsdetektion_2022_07_20.xlsx')\n",
    "# a = []\n",
    "# for i, item in enumerate(df['DET_ID15']):\n",
    "#     if item in traffic['station_id'].unique():\n",
    "#         a.append([df['x'][i], df['y'][i]])"
   ]
  },
  {
   "cell_type": "code",
   "execution_count": 5,
   "metadata": {},
   "outputs": [],
   "source": [
    "traffic_id = [100101010031590, 100101010031287]\n",
    "traffic['date'] = pd.to_datetime(traffic['date'], format=\"%d.%m.%Y\")\n",
    "traffic['hour'] = pd.to_timedelta(traffic['hour'], unit='h')\n",
    "traffic['datetime'] = traffic['date'] + traffic['hour']\n",
    "traffic = traffic.drop(columns=['date', 'hour'])\n",
    "traffic = traffic[traffic['station_id'].isin(traffic_id)]"
   ]
  },
  {
   "cell_type": "code",
   "execution_count": 6,
   "metadata": {},
   "outputs": [
    {
     "name": "stderr",
     "output_type": "stream",
     "text": [
      "C:\\Users\\wpietron\\AppData\\Local\\Temp\\ipykernel_10592\\4234781329.py:2: SettingWithCopyWarning: \n",
      "A value is trying to be set on a copy of a slice from a DataFrame\n",
      "\n",
      "See the caveats in the documentation: https://pandas.pydata.org/pandas-docs/stable/user_guide/indexing.html#returning-a-view-versus-a-copy\n",
      "  PM10['Date'][PM10['Time'] == '24:00'] = PM10['Date'] + pd.Timedelta(days=1)\n",
      "C:\\Users\\wpietron\\AppData\\Local\\Temp\\ipykernel_10592\\4234781329.py:3: SettingWithCopyWarning: \n",
      "A value is trying to be set on a copy of a slice from a DataFrame\n",
      "\n",
      "See the caveats in the documentation: https://pandas.pydata.org/pandas-docs/stable/user_guide/indexing.html#returning-a-view-versus-a-copy\n",
      "  PM10['Time'][PM10['Time'] == '24:00'] = '00:00'\n"
     ]
    }
   ],
   "source": [
    "PM10['Date'] = pd.to_datetime(PM10['Date'], format=\"%Y-%m-%d\")\n",
    "PM10['Date'][PM10['Time'] == '24:00'] = PM10['Date'] + pd.Timedelta(days=1)\n",
    "PM10['Time'][PM10['Time'] == '24:00'] = '00:00'\n",
    "PM10['Time'] = pd.to_timedelta(PM10['Time'].str.strip(\"'\") + ':00')\n",
    "PM10['datetime'] = PM10['Date'] + PM10['Time']\n",
    "PM10 = PM10.drop(columns=['Date', 'Time'])"
   ]
  },
  {
   "cell_type": "code",
   "execution_count": 7,
   "metadata": {},
   "outputs": [
    {
     "name": "stdout",
     "output_type": "stream",
     "text": [
      "13432\n",
      "17518\n"
     ]
    }
   ],
   "source": [
    "print(len(traffic))\n",
    "print(len(PM10))"
   ]
  },
  {
   "cell_type": "code",
   "execution_count": 8,
   "metadata": {},
   "outputs": [
    {
     "name": "stdout",
     "output_type": "stream",
     "text": [
      "30944\n",
      "8759\n"
     ]
    }
   ],
   "source": [
    "#date merge\n",
    "merged_df = pd.merge(traffic, PM10, left_on='datetime', right_on='datetime', how='inner')\n",
    "\n",
    "print(len(merged_df))\n",
    "merged_df.drop_duplicates(subset=['datetime'], inplace=True)\n",
    "print(len(merged_df))\n",
    "# #count nan\n",
    "# print(merged_df.isna().sum())\n"
   ]
  },
  {
   "cell_type": "code",
   "execution_count": 9,
   "metadata": {},
   "outputs": [
    {
     "name": "stdout",
     "output_type": "stream",
     "text": [
      "<bound method NDFrame.head of          station_id  quality  num_vehicles  avg_speed  num_cars  \\\n",
      "0      1.001010e+14     0.75          37.0       30.0      28.0   \n",
      "4      1.001010e+14     1.00          42.0       40.0      33.0   \n",
      "8      1.001010e+14     1.00          46.0       36.0      42.0   \n",
      "12     1.001010e+14     1.00          42.0       43.0      38.0   \n",
      "16     1.001010e+14     1.00          46.0       37.0      40.0   \n",
      "...             ...      ...           ...        ...       ...   \n",
      "30934           NaN      NaN           NaN        NaN       NaN   \n",
      "30936           NaN      NaN           NaN        NaN       NaN   \n",
      "30938           NaN      NaN           NaN        NaN       NaN   \n",
      "30940           NaN      NaN           NaN        NaN       NaN   \n",
      "30942           NaN      NaN           NaN        NaN       NaN   \n",
      "\n",
      "       avg_car_speed  num_trucks  avg_truck_speed            datetime  \\\n",
      "0               34.0         9.0             18.0 2023-01-05 12:00:00   \n",
      "4               41.0         9.0             36.0 2023-01-05 13:00:00   \n",
      "8               36.0         4.0             29.0 2023-01-05 14:00:00   \n",
      "12              43.0         4.0             43.0 2023-01-05 15:00:00   \n",
      "16              38.0         6.0             29.0 2023-01-05 16:00:00   \n",
      "...              ...         ...              ...                 ...   \n",
      "30934            NaN         NaN              NaN 2023-12-31 20:00:00   \n",
      "30936            NaN         NaN              NaN 2023-12-31 21:00:00   \n",
      "30938            NaN         NaN              NaN 2023-12-31 22:00:00   \n",
      "30940            NaN         NaN              NaN 2023-12-31 23:00:00   \n",
      "30942            NaN         NaN              NaN 2024-01-01 00:00:00   \n",
      "\n",
      "      State / Measuring network Station code  Station name Station setting  \\\n",
      "0                        Berlin      DEBE068  Berlin Mitte      urban area   \n",
      "4                        Berlin      DEBE068  Berlin Mitte      urban area   \n",
      "8                        Berlin      DEBE068  Berlin Mitte      urban area   \n",
      "12                       Berlin      DEBE068  Berlin Mitte      urban area   \n",
      "16                       Berlin      DEBE068  Berlin Mitte      urban area   \n",
      "...                         ...          ...           ...             ...   \n",
      "30934                    Berlin      DEBE068  Berlin Mitte      urban area   \n",
      "30936                    Berlin      DEBE068  Berlin Mitte      urban area   \n",
      "30938                    Berlin      DEBE068  Berlin Mitte      urban area   \n",
      "30940                    Berlin      DEBE068  Berlin Mitte      urban area   \n",
      "30942                    Berlin      DEBE068  Berlin Mitte      urban area   \n",
      "\n",
      "      Station type                  Pollutant  \\\n",
      "0       background  Particulate matter (PM₁₀)   \n",
      "4       background  Particulate matter (PM₁₀)   \n",
      "8       background  Particulate matter (PM₁₀)   \n",
      "12      background  Particulate matter (PM₁₀)   \n",
      "16      background  Particulate matter (PM₁₀)   \n",
      "...            ...                        ...   \n",
      "30934   background  Particulate matter (PM₁₀)   \n",
      "30936   background  Particulate matter (PM₁₀)   \n",
      "30938   background  Particulate matter (PM₁₀)   \n",
      "30940   background  Particulate matter (PM₁₀)   \n",
      "30942   background  Particulate matter (PM₁₀)   \n",
      "\n",
      "                                     Time scope Measure value   Unit  \n",
      "0      Daily average (hourly floating) (1TMWGL)             6  µg/m³  \n",
      "4      Daily average (hourly floating) (1TMWGL)             6  µg/m³  \n",
      "8      Daily average (hourly floating) (1TMWGL)             6  µg/m³  \n",
      "12     Daily average (hourly floating) (1TMWGL)             6  µg/m³  \n",
      "16     Daily average (hourly floating) (1TMWGL)             6  µg/m³  \n",
      "...                                         ...           ...    ...  \n",
      "30934  Daily average (hourly floating) (1TMWGL)            14  µg/m³  \n",
      "30936  Daily average (hourly floating) (1TMWGL)            14  µg/m³  \n",
      "30938  Daily average (hourly floating) (1TMWGL)            15  µg/m³  \n",
      "30940  Daily average (hourly floating) (1TMWGL)            16  µg/m³  \n",
      "30942  Daily average (hourly floating) (1TMWGL)            18  µg/m³  \n",
      "\n",
      "[8759 rows x 18 columns]>\n"
     ]
    }
   ],
   "source": [
    "print(merged_df.head)"
   ]
  }
 ],
 "metadata": {
  "kernelspec": {
   "display_name": "Python 3",
   "language": "python",
   "name": "python3"
  },
  "language_info": {
   "codemirror_mode": {
    "name": "ipython",
    "version": 3
   },
   "file_extension": ".py",
   "mimetype": "text/x-python",
   "name": "python",
   "nbconvert_exporter": "python",
   "pygments_lexer": "ipython3",
   "version": "3.11.4"
  }
 },
 "nbformat": 4,
 "nbformat_minor": 2
}
