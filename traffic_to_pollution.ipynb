{
 "cells": [
  {
   "cell_type": "code",
   "execution_count": 23,
   "metadata": {},
   "outputs": [],
   "source": [
    "import os\n",
    "import torch\n",
    "import numpy as np\n",
    "import torch.nn as nn\n",
    "import pandas as pd"
   ]
  },
  {
   "cell_type": "code",
   "execution_count": 25,
   "metadata": {},
   "outputs": [],
   "source": [
    "PM10 = pd.read_csv('./data/PM10-2023.csv', sep=';')\n",
    "NO2 = pd.read_csv('./data/NO2-2023.csv', sep=';')\n",
    "traffic = pd.DataFrame()\n",
    "# walk thru folder\n",
    "for file in os.listdir('./data/natezenie_ruchu'):\n",
    "    data = pd.read_csv('./data/natezenie_ruchu/' + file, sep=';')\n",
    "    traffic = pd.concat([traffic, data])"
   ]
  },
  {
   "cell_type": "code",
   "execution_count": 30,
   "metadata": {},
   "outputs": [],
   "source": [
    "traffic.columns = ['station_id', 'date', 'hour', 'quality', 'num_vehicles', 'avg_speed', 'num_cars', 'avg_car_speed', 'num_trucks', 'avg_truck_speed']"
   ]
  },
  {
   "cell_type": "code",
   "execution_count": 35,
   "metadata": {},
   "outputs": [
    {
     "data": {
      "text/plain": [
       "0         02.01.20230          13\\n1          14\\n2     ...\n",
       "1         02.01.20230          13\\n1          14\\n2     ...\n",
       "2         02.01.20230          13\\n1          14\\n2     ...\n",
       "3         02.01.20230          13\\n1          14\\n2     ...\n",
       "4         02.01.20230          13\\n1          14\\n2     ...\n",
       "                                ...                        \n",
       "240178    31.12.20230          13\\n1          14\\n2     ...\n",
       "240179    31.12.20230          13\\n1          14\\n2     ...\n",
       "240180    31.12.20230          13\\n1          14\\n2     ...\n",
       "240181    31.12.20230          13\\n1          14\\n2     ...\n",
       "240182    31.12.20230          13\\n1          14\\n2     ...\n",
       "Name: date, Length: 3089372, dtype: object"
      ]
     },
     "execution_count": 35,
     "metadata": {},
     "output_type": "execute_result"
    }
   ],
   "source": [
    "traffic_mitte = [100101010031590, 100101010031287, 100101010015628, 100101010015729]\n",
    "# traffic['date'] = pd.to_datetime(traffic['date'], format='%m/%d/%Y %H:%M')"
   ]
  }
 ],
 "metadata": {
  "kernelspec": {
   "display_name": "Python 3",
   "language": "python",
   "name": "python3"
  },
  "language_info": {
   "codemirror_mode": {
    "name": "ipython",
    "version": 3
   },
   "file_extension": ".py",
   "mimetype": "text/x-python",
   "name": "python",
   "nbconvert_exporter": "python",
   "pygments_lexer": "ipython3",
   "version": "3.11.4"
  }
 },
 "nbformat": 4,
 "nbformat_minor": 2
}
