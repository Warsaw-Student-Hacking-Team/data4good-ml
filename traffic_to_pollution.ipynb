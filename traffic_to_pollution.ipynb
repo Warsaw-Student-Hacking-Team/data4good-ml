{
 "cells": [
  {
   "cell_type": "code",
   "execution_count": null,
   "metadata": {},
   "outputs": [],
   "source": [
    "import os\n",
    "import torch\n",
    "import numpy as np\n",
    "import torch.nn as nn\n",
    "import pandas as pd"
   ]
  },
  {
   "cell_type": "code",
   "execution_count": null,
   "metadata": {},
   "outputs": [],
   "source": [
    "PM10 = pd.read_csv('./data/PM10-2023.csv', sep=';')\n",
    "NO2 = pd.read_csv('./data/NO2-2023.csv', sep=';')\n",
    "traffic = pd.DataFrame()\n",
    "for file in os.listdir('./data/natezenie_ruchu_2023'):\n",
    "    data = pd.read_csv('./data/natezenie_ruchu_2023/' + file, sep=';')\n",
    "    traffic = pd.concat([traffic, data])"
   ]
  },
  {
   "cell_type": "code",
   "execution_count": null,
   "metadata": {},
   "outputs": [],
   "source": [
    "PM10 = PM10.drop_duplicates()\n",
    "traffic = traffic.drop_duplicates()\n",
    "NO2 = NO2.drop_duplicates()"
   ]
  },
  {
   "cell_type": "code",
   "execution_count": null,
   "metadata": {},
   "outputs": [],
   "source": [
    "traffic.columns = ['Traffic_station_id', 'date', 'hour', 'quality', 'num_vehicles', 'avg_speed', 'num_cars', 'avg_car_speed', 'num_trucks', 'avg_truck_speed']\n",
    "df = pd.read_excel('./data/Stammdaten_Verkehrsdetektion_2022_07_20.xlsx')\n",
    "# a = []\n",
    "# for i, item in enumerate(df['DET_ID15']):\n",
    "#     if item in traffic['station_id'].unique():\n",
    "#         a.append([df['x'][i], df['y'][i]])"
   ]
  },
  {
   "cell_type": "code",
   "execution_count": null,
   "metadata": {},
   "outputs": [],
   "source": [
    "traffic_id = [100101010031590, 100101010031287]\n",
    "traffic['date'] = pd.to_datetime(traffic['date'], format=\"%d.%m.%Y\")\n",
    "traffic['hour'] = pd.to_timedelta(traffic['hour'], unit='h')\n",
    "traffic['datetime'] = traffic['date'] + traffic['hour']\n",
    "traffic = traffic.drop(columns=['date', 'hour'])\n",
    "traffic = traffic[traffic['Traffic_station_id'].isin(traffic_id)]"
   ]
  },
  {
   "cell_type": "code",
   "execution_count": null,
   "metadata": {},
   "outputs": [],
   "source": [
    "PM10['Date'] = pd.to_datetime(PM10['Date'], format=\"%Y-%m-%d\")\n",
    "PM10['Date'][PM10['Time'] == '24:00'] = PM10['Date'] + pd.Timedelta(days=1)\n",
    "PM10['Time'][PM10['Time'] == '24:00'] = '00:00'\n",
    "PM10['Time'] = pd.to_timedelta(PM10['Time'].str.strip(\"'\") + ':00')\n",
    "PM10['datetime'] = PM10['Date'] + PM10['Time']\n",
    "PM10 = PM10.drop(columns=['Date', 'Time', \"State / Measuring network\", \"Station setting\",\"Station type\",\"Pollutant\",\"Time scope\", \"Unit\", \"Station name\"])"
   ]
  },
  {
   "cell_type": "code",
   "execution_count": null,
   "metadata": {},
   "outputs": [],
   "source": [
    "print(len(traffic))\n",
    "print(len(PM10))"
   ]
  },
  {
   "cell_type": "code",
   "execution_count": null,
   "metadata": {},
   "outputs": [],
   "source": [
    "merged_df = pd.merge(traffic, PM10, left_on='datetime', right_on='datetime', how='inner')\n",
    "pivot_df = merged_df.pivot_table(index=['datetime'],\n",
    "                          columns=['Station code', 'Traffic_station_id'],\n",
    "                          values=['num_vehicles', 'avg_speed', 'num_cars', 'avg_car_speed',\n",
    "                                  'num_trucks', 'avg_truck_speed', 'Measure value','quality'],\n",
    "                          aggfunc='first')\n",
    "pivot_df.columns = ['{}_{}_{}'.format(col[1], col[0], i) for i, col in enumerate(pivot_df.columns.values)]\n",
    "pivot_df.reset_index(inplace=True)"
   ]
  },
  {
   "cell_type": "code",
   "execution_count": null,
   "metadata": {},
   "outputs": [],
   "source": [
    "columns_to_drop = [1, 3, 5, 6, 8, 9, 11, 12, 14, 15, 17, 18, 20, 21, 23, 24, 26, 27, 29, 30]\n",
    "pivot_df = pivot_df.drop(pivot_df.columns[columns_to_drop], axis=1)\n",
    "pivot_df.to_csv(\"pivot.csv\", index=False)\n",
    "merged_df.to_csv(\"merged.csv\", index=False)"
   ]
  }
 ],
 "metadata": {
  "kernelspec": {
   "display_name": "Python 3",
   "language": "python",
   "name": "python3"
  },
  "language_info": {
   "codemirror_mode": {
    "name": "ipython",
    "version": 3
   },
   "file_extension": ".py",
   "mimetype": "text/x-python",
   "name": "python",
   "nbconvert_exporter": "python",
   "pygments_lexer": "ipython3",
   "version": "3.11.4"
  }
 },
 "nbformat": 4,
 "nbformat_minor": 2
}
