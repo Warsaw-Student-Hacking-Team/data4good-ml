{
 "cells": [
  {
   "cell_type": "code",
   "execution_count": null,
   "metadata": {},
   "outputs": [],
   "source": [
    "import pandas as pd\n",
    "import numpy as np"
   ]
  },
  {
   "cell_type": "code",
   "execution_count": null,
   "metadata": {},
   "outputs": [],
   "source": [
    "air_pollution_df = pd.read_csv('./data/air_quality_Berlin_2021_all.csv')\n",
    "\n",
    "coordinates = air_pollution_df[['x', 'y']]\n",
    "unique_coordinates = coordinates.drop_duplicates()\n",
    "\n",
    "for i, coor in enumerate(np.array(unique_coordinates)):\n",
    "    print(coor[1], ',', coor[0], ',', i, ',', '#0000FF')"
   ]
  }
 ],
 "metadata": {
  "language_info": {
   "name": "python"
  }
 },
 "nbformat": 4,
 "nbformat_minor": 2
}
