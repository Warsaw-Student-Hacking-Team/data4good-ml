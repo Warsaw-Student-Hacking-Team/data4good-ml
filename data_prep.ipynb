{
 "cells": [
  {
   "cell_type": "code",
   "execution_count": 1,
   "metadata": {},
   "outputs": [],
   "source": [
    "import os\n",
    "import torch\n",
    "import numpy as np\n",
    "import torch.nn as nn\n",
    "import pandas as pd"
   ]
  },
  {
   "cell_type": "code",
   "execution_count": 2,
   "metadata": {},
   "outputs": [],
   "source": [
    "PM10 = pd.read_csv('./data/PM10_all_stations-2023.csv', sep=';')\n",
    "NO2 = pd.read_csv('./data/NO2-2023.csv', sep=';')\n",
    "traffic = pd.DataFrame()\n",
    "for file in os.listdir('./data/natezenie_ruchu_2023'):\n",
    "    data = pd.read_csv('./data/natezenie_ruchu_2023/' + file, sep=';')\n",
    "    traffic = pd.concat([traffic, data])"
   ]
  },
  {
   "cell_type": "code",
   "execution_count": 3,
   "metadata": {},
   "outputs": [],
   "source": [
    "# num_of_most_common_pm_stations = 10\n",
    "# print(PM10[\"Station code\"].value_counts())\n",
    "# detids = PM10[\"Station code\"].value_counts().index[:num_of_most_common_pm_stations]\n",
    "# print(detids)\n",
    "# PM10 = PM10[PM10[\"Station code\"].isin(detids)]\n",
    "\n",
    "#drop stations DEBE127\n",
    "PM10 = PM10[PM10[\"Station code\"] != \"DEBE127\"]"
   ]
  },
  {
   "cell_type": "code",
   "execution_count": 4,
   "metadata": {},
   "outputs": [
    {
     "name": "stdout",
     "output_type": "stream",
     "text": [
      "detid_15\n",
      "100101010073424    8417\n",
      "100101010075343    8410\n",
      "100101010075444    8407\n",
      "100101010075545    8400\n",
      "100101010073323    8397\n",
      "                   ... \n",
      "100101010042001     923\n",
      "100101010064128     669\n",
      "100101010004514     468\n",
      "100101010004312     468\n",
      "100101010004413     468\n",
      "Name: count, Length: 467, dtype: int64\n",
      "Index([100101010073424, 100101010075343, 100101010075444, 100101010075545,\n",
      "       100101010073323, 100101010077161, 100101010072717, 100101010072616,\n",
      "       100101010035331, 100101010043617, 100101010043516, 100101010085750,\n",
      "       100101010055741, 100101010055640, 100101010079585, 100101010066047,\n",
      "       100101010085649, 100101010069885, 100101010069986, 100101010002086,\n",
      "       100101010053923, 100101010029570, 100101010054024, 100101010029469,\n",
      "       100101010059983, 100101010002692, 100101010074838, 100101010074939,\n",
      "       100101010061603, 100101010061704, 100101010018355, 100101010018456,\n",
      "       100101010067259, 100101010017547, 100101010017648, 100101010067158,\n",
      "       100101010042708, 100101010042809, 100101010076656, 100101010076555,\n",
      "       100101010077060, 100101010076959, 100101010045132, 100101010045233,\n",
      "       100101010062512, 100101010062411, 100101010062613, 100101010062714,\n",
      "       100101010060084, 100101010085952, 100101010040179, 100101010040078,\n",
      "       100101010073525, 100101010073626, 100101010002288, 100101010083427,\n",
      "       100101010083528, 100101010053014, 100101010027348, 100101010013709,\n",
      "       100101010023914, 100101010083629, 100101010013810, 100101010024116,\n",
      "       100101010002389, 100101010024217, 100101010024419, 100101010053115,\n",
      "       100101010024318, 100101010035230, 100101010079787, 100101010027247,\n",
      "       100101010079080, 100101010078979, 100101010074232, 100101010074131,\n",
      "       100101010072212, 100101010072111, 100101010023510, 100101010023611],\n",
      "      dtype='int64', name='detid_15')\n"
     ]
    }
   ],
   "source": [
    "num_of_most_common_traffic_stations = 80\n",
    "print(traffic['detid_15'].value_counts())\n",
    "detids = traffic['detid_15'].value_counts().index[:num_of_most_common_traffic_stations]\n",
    "print(detids)\n",
    "\n",
    "traffic = traffic[traffic['detid_15'].isin(detids)]"
   ]
  },
  {
   "cell_type": "code",
   "execution_count": 5,
   "metadata": {},
   "outputs": [
    {
     "name": "stdout",
     "output_type": "stream",
     "text": [
      "detid_15\n",
      "100101010073424    8417\n",
      "100101010075343    8410\n",
      "100101010075444    8407\n",
      "100101010075545    8400\n",
      "100101010073323    8397\n",
      "                   ... \n",
      "100101010074131    8239\n",
      "100101010072111    8231\n",
      "100101010072212    8231\n",
      "100101010023510    8225\n",
      "100101010023611    8225\n",
      "Name: count, Length: 80, dtype: int64\n"
     ]
    }
   ],
   "source": [
    "print(traffic['detid_15'].value_counts())"
   ]
  },
  {
   "cell_type": "code",
   "execution_count": 6,
   "metadata": {},
   "outputs": [],
   "source": [
    "# print(len(traffic['Traffic_station_id'].value_counts()))"
   ]
  },
  {
   "cell_type": "code",
   "execution_count": 7,
   "metadata": {},
   "outputs": [],
   "source": [
    "#FIND COORDINATES (JUST FOR MAP!)\n",
    "# coord_df = pd.read_excel('./data/Stammdaten_Verkehrsdetektion_2022_07_20.xlsx')\n",
    "\n",
    "# coordinates = coord_df[['x', 'y', 'DET_ID15']]\n",
    "# unique_coordinates = coordinates.drop_duplicates(subset=['x', 'y'])\n",
    "\n",
    "# a = np.array(unique_coordinates)\n",
    "\n",
    "# for i, coor in enumerate(a):\n",
    "#     if int(coor[2]) not in detids:\n",
    "#         continue\n",
    "#     print(coor[1], ',', coor[0], ',', int(coor[2]), ',', '#0000FF')"
   ]
  },
  {
   "cell_type": "code",
   "execution_count": 8,
   "metadata": {},
   "outputs": [],
   "source": [
    "PM10 = PM10.drop_duplicates()\n",
    "traffic = traffic.drop_duplicates()\n",
    "NO2 = NO2.drop_duplicates()"
   ]
  },
  {
   "cell_type": "code",
   "execution_count": 9,
   "metadata": {},
   "outputs": [],
   "source": [
    "traffic.columns = ['Traffic_station_id', 'date', 'hour', 'quality', 'num_vehicles', 'avg_speed', 'num_cars', 'avg_car_speed', 'num_trucks', 'avg_truck_speed']\n",
    "df = pd.read_excel('./data/Stammdaten_Verkehrsdetektion_2022_07_20.xlsx')\n",
    "# a = []\n",
    "# for i, item in enumerate(df['DET_ID15']):\n",
    "#     if item in traffic['station_id'].unique():\n",
    "#         a.append([df['x'][i], df['y'][i]])"
   ]
  },
  {
   "cell_type": "code",
   "execution_count": 10,
   "metadata": {},
   "outputs": [],
   "source": [
    "# traffic_ids = [100101010023712, 100101010016739, 100101010053822, 100101010035230, 100101010043516, 100101010055640, 100101010095046, 100101010054832, 100101010019163, 100101010003504, 100101010058367, 100101010013709, 100101010017547, 100101010061603, 100101010069077, 100101010013507, 100101010041900, 100101010081104, 100101010023914, 100101010069380, 100101010044324, 100101010041088, 100101010022092, 100101010078979, 100101010014113, 100101010011685, 100101010076555, 100101010004110, 100101010017951, 100101010079484, 100101010053620, 100101010066047, 100101010072717, 100101010019870, 100101010032200, 100101010099894, 100101010056448, 100101010053923, 100101010023207, 100101010062007, 100101010065138, 100101010011887, 100101010063017, 100101010086053, 100101010066855, 100101010030681, 100101010064633, 100101010093632, 100101010033311, 100101010062613, 100101010015426, 100101010039977, 100101010020274, 100101010028459, 100101010033513, 100101010022496, 100101010091309, 100101010052812, 100101010034119, 100101010025126, 100101010081407, 100101010097470, 100101010077161, 100101010060993, 100101010073525, 100101010035836, 100101010067360, 100101010068774, 100101010068269, 100101010002288, 100101010015325, 100101010002086, 100101010009766, 100101010001076, 100101010058569, 100101010026742, 100101010007948, 100101010028661, 100101010073727, 100101010003908, 100101010059781, 100101010074838, 100101010064936]"
   ]
  },
  {
   "cell_type": "code",
   "execution_count": 11,
   "metadata": {},
   "outputs": [],
   "source": [
    "# traffic_id = [100101010031590, 100101010031287]\n",
    "traffic['date'] = pd.to_datetime(traffic['date'], format=\"%d.%m.%Y\")\n",
    "traffic['hour'] = pd.to_timedelta(traffic['hour'], unit='h')\n",
    "traffic['datetime'] = traffic['date'] + traffic['hour']\n",
    "traffic = traffic.drop(columns=['date', 'hour'])\n",
    "# traffic = traffic[traffic['Traffic_station_id'].isin(traffic_ids)]"
   ]
  },
  {
   "cell_type": "code",
   "execution_count": 12,
   "metadata": {},
   "outputs": [
    {
     "name": "stderr",
     "output_type": "stream",
     "text": [
      "C:\\Users\\wpietron\\AppData\\Local\\Temp\\ipykernel_32908\\72315281.py:2: SettingWithCopyWarning: \n",
      "A value is trying to be set on a copy of a slice from a DataFrame\n",
      "\n",
      "See the caveats in the documentation: https://pandas.pydata.org/pandas-docs/stable/user_guide/indexing.html#returning-a-view-versus-a-copy\n",
      "  PM10['Date'][PM10['Time'] == '24:00'] = PM10['Date'] + pd.Timedelta(days=1)\n",
      "C:\\Users\\wpietron\\AppData\\Local\\Temp\\ipykernel_32908\\72315281.py:3: SettingWithCopyWarning: \n",
      "A value is trying to be set on a copy of a slice from a DataFrame\n",
      "\n",
      "See the caveats in the documentation: https://pandas.pydata.org/pandas-docs/stable/user_guide/indexing.html#returning-a-view-versus-a-copy\n",
      "  PM10['Time'][PM10['Time'] == '24:00'] = '00:00'\n"
     ]
    }
   ],
   "source": [
    "PM10['Date'] = pd.to_datetime(PM10['Date'], format=\"%Y-%m-%d\")\n",
    "PM10['Date'][PM10['Time'] == '24:00'] = PM10['Date'] + pd.Timedelta(days=1)\n",
    "PM10['Time'][PM10['Time'] == '24:00'] = '00:00'\n",
    "PM10['Time'] = pd.to_timedelta(PM10['Time'].str.strip(\"'\") + ':00')\n",
    "PM10['datetime'] = PM10['Date'] + PM10['Time']\n",
    "PM10 = PM10.drop(columns=['Date', 'Time', \"State / Measuring network\", \"Station setting\",\"Station type\",\"Pollutant\",\"Time scope\", \"Unit\", \"Station name\"])"
   ]
  },
  {
   "cell_type": "code",
   "execution_count": 13,
   "metadata": {},
   "outputs": [],
   "source": [
    "pivot_PM10 = PM10.pivot_table(index=['datetime'],\n",
    "                          columns=['Station code'],\n",
    "                          values=['Measure value'],\n",
    "                          aggfunc='first')"
   ]
  },
  {
   "cell_type": "code",
   "execution_count": 14,
   "metadata": {},
   "outputs": [],
   "source": [
    "pivot_PM10.columns = ['{}_{}'.format(col[1], col[0]) for i, col in enumerate(pivot_PM10.columns.values)]\n",
    "pivot_PM10.reset_index(inplace=True)\n",
    "# pivot_PM10.to_csv(\"pivot_PM.csv\", index=False)"
   ]
  },
  {
   "cell_type": "code",
   "execution_count": 15,
   "metadata": {},
   "outputs": [],
   "source": [
    "# traffic.drop(columns=['num_vehicles', 'avg_speed', 'avg_truck_speed', 'avg_car_speed'], inplace=True)\n",
    "traffic.drop(columns=['avg_speed', 'avg_truck_speed', 'avg_car_speed','num_cars', 'num_trucks'], inplace=True)"
   ]
  },
  {
   "cell_type": "code",
   "execution_count": 16,
   "metadata": {},
   "outputs": [],
   "source": [
    "pivot_traffic = traffic.pivot_table(index=['datetime'],\n",
    "                          columns=['Traffic_station_id'],\n",
    "                          values=['num_vehicles', 'quality'],\n",
    "                          aggfunc='first')"
   ]
  },
  {
   "cell_type": "code",
   "execution_count": 17,
   "metadata": {},
   "outputs": [],
   "source": [
    "pivot_traffic.columns = ['{}_{}'.format(col[1], col[0]) for i, col in enumerate(pivot_traffic.columns.values)]\n",
    "pivot_traffic.reset_index(inplace=True)\n",
    "# pivot_traffic.to_csv(\"pivot_traffic.csv\", index=False)"
   ]
  },
  {
   "cell_type": "code",
   "execution_count": 18,
   "metadata": {},
   "outputs": [],
   "source": [
    "pivot_traffic['hour'] = pivot_traffic['datetime'].dt.hour\n",
    "pivot_traffic['month'] = pivot_traffic['datetime'].dt.month"
   ]
  },
  {
   "cell_type": "code",
   "execution_count": 19,
   "metadata": {},
   "outputs": [
    {
     "name": "stdout",
     "output_type": "stream",
     "text": [
      "8420\n",
      "5209\n"
     ]
    }
   ],
   "source": [
    "pivot_PM10.dropna(inplace=True)\n",
    "print(len(pivot_traffic))\n",
    "pivot_traffic.dropna(inplace=True)\n",
    "print(len(pivot_traffic))"
   ]
  },
  {
   "cell_type": "code",
   "execution_count": 20,
   "metadata": {},
   "outputs": [
    {
     "name": "stdout",
     "output_type": "stream",
     "text": [
      "8759\n",
      "6417\n"
     ]
    }
   ],
   "source": [
    "#drop rows with value = '-'\n",
    "print(len(pivot_PM10))\n",
    "pivot_PM10 = pivot_PM10[~pivot_PM10.isin(['-']).any(axis=1)]\n",
    "print(len(pivot_PM10))"
   ]
  },
  {
   "cell_type": "code",
   "execution_count": 21,
   "metadata": {},
   "outputs": [],
   "source": [
    "pivot_traffic = pivot_traffic[pivot_traffic['datetime'].isin(pivot_PM10['datetime'])]\n",
    "pivot_PM10 = pivot_PM10[pivot_PM10['datetime'].isin(pivot_traffic['datetime'])]\n",
    "\n",
    "pivot_traffic = pivot_traffic.sort_values(by='datetime')\n",
    "pivot_PM10 = pivot_PM10.sort_values(by='datetime')"
   ]
  },
  {
   "cell_type": "code",
   "execution_count": 22,
   "metadata": {},
   "outputs": [
    {
     "name": "stdout",
     "output_type": "stream",
     "text": [
      "3983\n",
      "3983\n"
     ]
    }
   ],
   "source": [
    "print(len(pivot_traffic))\n",
    "print(len(pivot_PM10))"
   ]
  },
  {
   "cell_type": "code",
   "execution_count": 23,
   "metadata": {},
   "outputs": [],
   "source": [
    "#save to csv\n",
    "pivot_traffic.to_csv(\"./generated_data/pivot_traffic.csv\", index=False)\n",
    "pivot_PM10.to_csv(\"./generated_data/pivot_PM10.csv\", index=False)"
   ]
  }
 ],
 "metadata": {
  "kernelspec": {
   "display_name": "Python 3",
   "language": "python",
   "name": "python3"
  },
  "language_info": {
   "codemirror_mode": {
    "name": "ipython",
    "version": 3
   },
   "file_extension": ".py",
   "mimetype": "text/x-python",
   "name": "python",
   "nbconvert_exporter": "python",
   "pygments_lexer": "ipython3",
   "version": "3.11.4"
  }
 },
 "nbformat": 4,
 "nbformat_minor": 2
}
