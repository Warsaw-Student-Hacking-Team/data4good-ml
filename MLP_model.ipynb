{
 "cells": [
  {
   "cell_type": "code",
   "execution_count": 1,
   "metadata": {},
   "outputs": [],
   "source": [
    "import os\n",
    "import torch\n",
    "import numpy as np\n",
    "import torch.nn as nn\n",
    "import torch.optim as optim\n",
    "import pandas as pd\n",
    "\n",
    "import torch\n",
    "from Models import *\n",
    "from functions import *\n",
    "\n",
    "from torch.utils.data import DataLoader, TensorDataset\n",
    "from sklearn.model_selection import train_test_split"
   ]
  },
  {
   "cell_type": "code",
   "execution_count": 2,
   "metadata": {},
   "outputs": [],
   "source": [
    "num_columns = len(np.genfromtxt('./generated_data/pivot_PM10.csv', delimiter=',', max_rows=1))\n",
    "columns_to_read_PM = [i for i in range(num_columns) if i != 0]\n",
    "\n",
    "num_columns = len(np.genfromtxt('./generated_data/pivot_traffic.csv', delimiter=',', max_rows=1))\n",
    "columns_to_read_traffic = [i for i in range(num_columns) if i != 0]"
   ]
  },
  {
   "cell_type": "code",
   "execution_count": 3,
   "metadata": {},
   "outputs": [],
   "source": [
    "x = np.genfromtxt('./generated_data/pivot_traffic.csv', delimiter=',', skip_header=1, usecols=columns_to_read_traffic, dtype=float)\n",
    "y = np.genfromtxt('./generated_data/pivot_PM10.csv', delimiter=',', skip_header=1, usecols=columns_to_read_PM,  dtype=float)"
   ]
  },
  {
   "cell_type": "code",
   "execution_count": 4,
   "metadata": {},
   "outputs": [
    {
     "name": "stdout",
     "output_type": "stream",
     "text": [
      "(3983, 82)\n",
      "(3983, 12)\n",
      "(3983,)\n",
      "(3983,)\n"
     ]
    }
   ],
   "source": [
    "print(x.shape)\n",
    "print(y.shape)\n",
    "print(x[:,0].shape)\n",
    "print(y[:,0].shape)"
   ]
  },
  {
   "cell_type": "code",
   "execution_count": 5,
   "metadata": {},
   "outputs": [],
   "source": [
    "# import xgboost as xgb\n",
    "\n",
    "# model = xgb.XGBRegressor()\n",
    " \n",
    "# model.fit(x, y)\n",
    "\n",
    "# importances = model.feature_importances_\n",
    "# print(importances)"
   ]
  },
  {
   "cell_type": "code",
   "execution_count": 6,
   "metadata": {},
   "outputs": [],
   "source": [
    "x_train, x_test, y_train, y_test = train_test_split(x, y, test_size=0.2, random_state=42)\n",
    "\n",
    "x_train_tensor = torch.tensor(x_train, dtype=torch.float32)\n",
    "y_train_tensor = torch.tensor(y_train, dtype=torch.float32)\n",
    "\n",
    "x_test_tensor = torch.tensor(x_test, dtype=torch.float32)\n",
    "y_test_tensor = torch.tensor(y_test, dtype=torch.float32)\n",
    "\n",
    "train_dataset = TensorDataset(x_train_tensor, y_train_tensor)\n",
    "train_loader = DataLoader(dataset=train_dataset, batch_size=256, shuffle=True)\n",
    "\n",
    "test_dataset = TensorDataset(x_test_tensor, y_test_tensor)\n",
    "test_loader = DataLoader(dataset=test_dataset, batch_size=256, shuffle=True)"
   ]
  },
  {
   "cell_type": "code",
   "execution_count": 7,
   "metadata": {},
   "outputs": [
    {
     "name": "stdout",
     "output_type": "stream",
     "text": [
      "cuda\n"
     ]
    }
   ],
   "source": [
    "device = torch.device('cuda' if torch.cuda.is_available() else 'cpu')\n",
    "print(device)"
   ]
  },
  {
   "cell_type": "code",
   "execution_count": 8,
   "metadata": {},
   "outputs": [
    {
     "name": "stdout",
     "output_type": "stream",
     "text": [
      "82\n",
      "12\n"
     ]
    }
   ],
   "source": [
    "input_size = x.shape[1]\n",
    "hidden_size = 128\n",
    "output_size = y.shape[1]\n",
    "print(input_size)\n",
    "print(output_size)\n",
    "\n",
    "# model = MLP(input_size, hidden_size, output_size)\n",
    "model = MLP_v2(input_size, hidden_size, output_size).to(device)"
   ]
  },
  {
   "cell_type": "code",
   "execution_count": 9,
   "metadata": {},
   "outputs": [
    {
     "name": "stdout",
     "output_type": "stream",
     "text": [
      "Mean Absolute Error: 31.3614\n"
     ]
    }
   ],
   "source": [
    "#model test\n",
    "mean_abs_error, _, _ = model_test(model, test_loader, device)\n",
    "print(f'Mean Absolute Error: {mean_abs_error:.4f}')"
   ]
  },
  {
   "cell_type": "code",
   "execution_count": 10,
   "metadata": {},
   "outputs": [],
   "source": [
    "criterion = nn.MSELoss()\n",
    "optimizer = optim.Adam(model.parameters(), lr=0.0001)"
   ]
  },
  {
   "cell_type": "code",
   "execution_count": 11,
   "metadata": {},
   "outputs": [
    {
     "name": "stdout",
     "output_type": "stream",
     "text": [
      "Epoch [0/700], Loss: 325.4148, Mean Absolute Error: 15.6349\n",
      "Epoch [50/700], Loss: 270.6408, Mean Absolute Error: 14.2386\n",
      "Epoch [100/700], Loss: 190.2000, Mean Absolute Error: 11.0967\n",
      "Epoch [150/700], Loss: 95.2835, Mean Absolute Error: 7.6582\n",
      "Epoch [200/700], Loss: 26.8414, Mean Absolute Error: 5.5092\n",
      "Epoch [250/700], Loss: 16.6017, Mean Absolute Error: 4.9416\n",
      "Epoch [300/700], Loss: 14.3275, Mean Absolute Error: 4.8516\n",
      "Epoch [350/700], Loss: 10.6804, Mean Absolute Error: 4.8434\n",
      "Epoch [400/700], Loss: 10.5453, Mean Absolute Error: 4.8898\n",
      "Epoch [450/700], Loss: 10.7771, Mean Absolute Error: 4.8980\n",
      "Epoch [500/700], Loss: 12.4897, Mean Absolute Error: 4.9019\n",
      "Epoch [550/700], Loss: 11.7797, Mean Absolute Error: 4.9073\n",
      "Epoch [600/700], Loss: 9.5968, Mean Absolute Error: 4.8835\n",
      "Epoch [650/700], Loss: 8.9081, Mean Absolute Error: 4.9281\n"
     ]
    }
   ],
   "source": [
    "num_epochs = 700\n",
    "mean_absolute_error_list = []\n",
    "\n",
    "for epoch in range(num_epochs):\n",
    "    model.train()\n",
    "    for inputs, targets in train_loader:\n",
    "        inputs, targets = inputs.to(device), targets.to(device)\n",
    "        outputs = model(inputs)\n",
    "        loss = criterion(outputs, targets)\n",
    "        optimizer.zero_grad()\n",
    "        loss.backward()\n",
    "        optimizer.step()\n",
    "    if (epoch) % 50 == 0:\n",
    "        mean_abs_error, _ , _ = model_test(model, test_loader, device)\n",
    "        mean_absolute_error_list.append(mean_abs_error)\n",
    "        print(f'Epoch [{epoch}/{num_epochs}], Loss: {loss.item():.4f}, Mean Absolute Error: {mean_abs_error:.4f}')\n",
    "        # print(f'Epoch [{epoch}/{num_epochs}], Loss: {loss.item():.4f}')\n"
   ]
  },
  {
   "cell_type": "code",
   "execution_count": 12,
   "metadata": {},
   "outputs": [],
   "source": [
    "#SAVING TO ONNX\n",
    "#MPL model\n",
    "# import torch.onnx\n",
    "# model.eval()\n",
    "# batch_size = 512\n",
    "# x = torch.randn(batch_size,x.shape[1]).to(device)\n",
    "\n",
    "# output_path = './PM10_model_v1.onnx'\n",
    "\n",
    "# # Eksport modelu ONNX z dynamicznym rozmiarem wsadu\n",
    "# torch.onnx.export(model, x, output_path, export_params=True, opset_version=10, do_constant_folding=True,\n",
    "#                     input_names=['input_0'], output_names=['output_0'],\n",
    "#                   dynamic_axes={'input_0': {0: 'batch_size'},'output_0': {0: 'batch_size'}},\n",
    "#                   verbose=True)"
   ]
  },
  {
   "cell_type": "code",
   "execution_count": 13,
   "metadata": {},
   "outputs": [
    {
     "name": "stdout",
     "output_type": "stream",
     "text": [
      "(797, 12)\n"
     ]
    }
   ],
   "source": [
    "mean_abs_error, preds_list, outs_list = model_test(model, test_loader, device)\n",
    "print(preds_list.shape)"
   ]
  },
  {
   "cell_type": "code",
   "execution_count": 14,
   "metadata": {},
   "outputs": [
    {
     "name": "stdout",
     "output_type": "stream",
     "text": [
      "[4.3382344, 3.8167715, 4.349241, 4.3798447, 4.1162553, 4.835694, 5.351705, 5.7931514, 4.890324, 5.585985, 5.1618347, 5.291212]\n"
     ]
    }
   ],
   "source": [
    "#calculate the mean absolute error for every output\n",
    "from sklearn.metrics import mean_absolute_error\n",
    "\n",
    "mean_abs_error_list = []\n",
    "for i in range(output_size):\n",
    "    mean_abs_error = mean_absolute_error(outs_list[:,i], preds_list[:,i])\n",
    "    mean_abs_error_list.append(mean_abs_error)\n",
    "\n",
    "print(mean_abs_error_list)"
   ]
  },
  {
   "cell_type": "code",
   "execution_count": null,
   "metadata": {},
   "outputs": [],
   "source": []
  }
 ],
 "metadata": {
  "kernelspec": {
   "display_name": "Python 3",
   "language": "python",
   "name": "python3"
  },
  "language_info": {
   "codemirror_mode": {
    "name": "ipython",
    "version": 3
   },
   "file_extension": ".py",
   "mimetype": "text/x-python",
   "name": "python",
   "nbconvert_exporter": "python",
   "pygments_lexer": "ipython3",
   "version": "3.11.4"
  }
 },
 "nbformat": 4,
 "nbformat_minor": 2
}
