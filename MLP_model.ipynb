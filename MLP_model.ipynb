{
 "cells": [
  {
   "cell_type": "code",
   "execution_count": 1,
   "metadata": {},
   "outputs": [],
   "source": [
    "import os\n",
    "import torch\n",
    "import numpy as np\n",
    "import torch.nn as nn\n",
    "import torch.optim as optim\n",
    "import pandas as pd\n",
    "\n",
    "import torch\n",
    "from Models import *\n",
    "from functions import *\n",
    "\n",
    "from torch.utils.data import DataLoader, TensorDataset\n",
    "from sklearn.model_selection import train_test_split"
   ]
  },
  {
   "cell_type": "code",
   "execution_count": 2,
   "metadata": {},
   "outputs": [],
   "source": [
    "x = np.genfromtxt('./generated_data/pivot_traffic.csv', delimiter=',', skip_header=1, usecols=range(1, 17), dtype=float)\n",
    "y = np.genfromtxt('./generated_data/pivot_PM10.csv', delimiter=',', skip_header=1, usecols=(1,2),  dtype=float)"
   ]
  },
  {
   "cell_type": "code",
   "execution_count": 3,
   "metadata": {},
   "outputs": [
    {
     "name": "stdout",
     "output_type": "stream",
     "text": [
      "(6510, 16)\n",
      "(6510, 2)\n",
      "(6510,)\n",
      "(6510,)\n"
     ]
    }
   ],
   "source": [
    "print(x.shape)\n",
    "print(y.shape)\n",
    "print(x[:,0].shape)\n",
    "print(y[:,0].shape)"
   ]
  },
  {
   "cell_type": "code",
   "execution_count": 4,
   "metadata": {},
   "outputs": [
    {
     "name": "stdout",
     "output_type": "stream",
     "text": [
      "[0.02177803 0.02388705 0.04590705 0.03498765 0.04350351 0.03919521\n",
      " 0.03852011 0.04607506 0.04492055 0.04621455 0.0447857  0.04628607\n",
      " 0.12066203 0.14340933 0.0400168  0.21985121]\n"
     ]
    }
   ],
   "source": [
    "import xgboost as xgb\n",
    "\n",
    "model = xgb.XGBRegressor()\n",
    " \n",
    "model.fit(x, y)\n",
    "\n",
    "importances = model.feature_importances_\n",
    "print(importances)"
   ]
  },
  {
   "cell_type": "code",
   "execution_count": 5,
   "metadata": {},
   "outputs": [],
   "source": [
    "x_train, x_test, y_train, y_test = train_test_split(x, y, test_size=0.2, random_state=42)\n",
    "\n",
    "x_train_tensor = torch.tensor(x_train, dtype=torch.float32)\n",
    "y_train_tensor = torch.tensor(y_train, dtype=torch.float32)\n",
    "\n",
    "x_test_tensor = torch.tensor(x_test, dtype=torch.float32)\n",
    "y_test_tensor = torch.tensor(y_test, dtype=torch.float32)\n",
    "\n",
    "train_dataset = TensorDataset(x_train_tensor, y_train_tensor)\n",
    "train_loader = DataLoader(dataset=train_dataset, batch_size=256, shuffle=True)\n",
    "\n",
    "test_dataset = TensorDataset(x_test_tensor, y_test_tensor)\n",
    "test_loader = DataLoader(dataset=test_dataset, batch_size=256, shuffle=True)"
   ]
  },
  {
   "cell_type": "code",
   "execution_count": 6,
   "metadata": {},
   "outputs": [
    {
     "name": "stdout",
     "output_type": "stream",
     "text": [
      "cuda\n"
     ]
    }
   ],
   "source": [
    "device = torch.device('cuda' if torch.cuda.is_available() else 'cpu')\n",
    "print(device)"
   ]
  },
  {
   "cell_type": "code",
   "execution_count": 7,
   "metadata": {},
   "outputs": [
    {
     "name": "stdout",
     "output_type": "stream",
     "text": [
      "16\n",
      "2\n"
     ]
    }
   ],
   "source": [
    "input_size = x.shape[1]\n",
    "hidden_size = 128\n",
    "output_size = y.shape[1]\n",
    "print(input_size)\n",
    "print(output_size)\n",
    "\n",
    "# model = MLP(input_size, hidden_size, output_size)\n",
    "model = MLP_v2(input_size, hidden_size, output_size).to(device)"
   ]
  },
  {
   "cell_type": "code",
   "execution_count": 8,
   "metadata": {},
   "outputs": [
    {
     "name": "stdout",
     "output_type": "stream",
     "text": [
      "Mean Absolute Error: 19.5908\n"
     ]
    }
   ],
   "source": [
    "#model test\n",
    "mean_abs_error = model_test(model, test_loader, device)\n",
    "print(f'Mean Absolute Error: {mean_abs_error:.4f}')"
   ]
  },
  {
   "cell_type": "code",
   "execution_count": 9,
   "metadata": {},
   "outputs": [],
   "source": [
    "criterion = nn.MSELoss()\n",
    "optimizer = optim.Adam(model.parameters(), lr=0.0001)"
   ]
  },
  {
   "cell_type": "code",
   "execution_count": 10,
   "metadata": {},
   "outputs": [
    {
     "name": "stdout",
     "output_type": "stream",
     "text": [
      "Epoch [0/700], Loss: 331.4535, Mean Absolute Error: 18.2375\n",
      "Epoch [50/700], Loss: 272.3319, Mean Absolute Error: 15.6251\n",
      "Epoch [100/700], Loss: 120.5768, Mean Absolute Error: 9.8207\n",
      "Epoch [150/700], Loss: 55.3271, Mean Absolute Error: 6.2663\n",
      "Epoch [200/700], Loss: 30.4602, Mean Absolute Error: 5.6956\n",
      "Epoch [250/700], Loss: 34.7455, Mean Absolute Error: 5.7463\n",
      "Epoch [300/700], Loss: 25.7126, Mean Absolute Error: 5.8220\n",
      "Epoch [350/700], Loss: 34.3889, Mean Absolute Error: 5.8970\n",
      "Epoch [400/700], Loss: 26.5697, Mean Absolute Error: 5.9686\n",
      "Epoch [450/700], Loss: 26.3554, Mean Absolute Error: 5.8756\n",
      "Epoch [500/700], Loss: 22.5659, Mean Absolute Error: 5.9532\n",
      "Epoch [550/700], Loss: 39.2929, Mean Absolute Error: 6.0652\n",
      "Epoch [600/700], Loss: 23.7221, Mean Absolute Error: 5.9590\n",
      "Epoch [650/700], Loss: 27.5492, Mean Absolute Error: 6.1413\n"
     ]
    }
   ],
   "source": [
    "num_epochs = 700\n",
    "mean_absolute_error_list = []\n",
    "\n",
    "for epoch in range(num_epochs):\n",
    "    model.train()\n",
    "    for inputs, targets in train_loader:\n",
    "        inputs, targets = inputs.to(device), targets.to(device)\n",
    "        outputs = model(inputs)\n",
    "        loss = criterion(outputs, targets)\n",
    "        optimizer.zero_grad()\n",
    "        loss.backward()\n",
    "        optimizer.step()\n",
    "    if (epoch) % 50 == 0:\n",
    "        mean_abs_error = model_test(model, test_loader, device)\n",
    "        mean_absolute_error_list.append(mean_abs_error)\n",
    "        print(f'Epoch [{epoch}/{num_epochs}], Loss: {loss.item():.4f}, Mean Absolute Error: {mean_abs_error:.4f}')\n",
    "        # print(f'Epoch [{epoch}/{num_epochs}], Loss: {loss.item():.4f}')\n"
   ]
  }
 ],
 "metadata": {
  "kernelspec": {
   "display_name": "Python 3",
   "language": "python",
   "name": "python3"
  },
  "language_info": {
   "codemirror_mode": {
    "name": "ipython",
    "version": 3
   },
   "file_extension": ".py",
   "mimetype": "text/x-python",
   "name": "python",
   "nbconvert_exporter": "python",
   "pygments_lexer": "ipython3",
   "version": "3.11.4"
  }
 },
 "nbformat": 4,
 "nbformat_minor": 2
}
